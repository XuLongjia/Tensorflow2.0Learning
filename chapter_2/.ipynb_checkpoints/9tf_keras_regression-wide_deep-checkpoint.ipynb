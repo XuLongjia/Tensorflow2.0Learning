{
 "cells": [
  {
   "cell_type": "code",
   "execution_count": 1,
   "metadata": {},
   "outputs": [
    {
     "name": "stdout",
     "output_type": "stream",
     "text": [
      "2.0.0-alpha0\n",
      "sys.version_info(major=3, minor=7, micro=3, releaselevel='final', serial=0)\n",
      "matplotlib 3.0.3\n",
      "numpy 1.16.2\n",
      "pandas 0.24.2\n",
      "sklearn 0.20.3\n",
      "tensorflow 2.0.0-alpha0\n",
      "tensorflow.python.keras.api._v2.keras 2.2.4-tf\n"
     ]
    }
   ],
   "source": [
    "import matplotlib as mpl\n",
    "import matplotlib.pyplot as plt\n",
    "%matplotlib inline\n",
    "import numpy as np\n",
    "import sklearn\n",
    "import pandas as pd\n",
    "import os\n",
    "import sys\n",
    "import time\n",
    "import tensorflow as tf\n",
    "\n",
    "from tensorflow import keras\n",
    "\n",
    "print(tf.__version__)\n",
    "print(sys.version_info)\n",
    "for module in mpl, np, pd, sklearn, tf, keras:\n",
    "    print(module.__name__, module.__version__)"
   ]
  },
  {
   "cell_type": "code",
   "execution_count": 2,
   "metadata": {},
   "outputs": [
    {
     "name": "stdout",
     "output_type": "stream",
     "text": [
      ".. _california_housing_dataset:\n",
      "\n",
      "California Housing dataset\n",
      "--------------------------\n",
      "\n",
      "**Data Set Characteristics:**\n",
      "\n",
      "    :Number of Instances: 20640\n",
      "\n",
      "    :Number of Attributes: 8 numeric, predictive attributes and the target\n",
      "\n",
      "    :Attribute Information:\n",
      "        - MedInc        median income in block\n",
      "        - HouseAge      median house age in block\n",
      "        - AveRooms      average number of rooms\n",
      "        - AveBedrms     average number of bedrooms\n",
      "        - Population    block population\n",
      "        - AveOccup      average house occupancy\n",
      "        - Latitude      house block latitude\n",
      "        - Longitude     house block longitude\n",
      "\n",
      "    :Missing Attribute Values: None\n",
      "\n",
      "This dataset was obtained from the StatLib repository.\n",
      "http://lib.stat.cmu.edu/datasets/\n",
      "\n",
      "The target variable is the median house value for California districts.\n",
      "\n",
      "This dataset was derived from the 1990 U.S. census, using one row per census\n",
      "block group. A block group is the smallest geographical unit for which the U.S.\n",
      "Census Bureau publishes sample data (a block group typically has a population\n",
      "of 600 to 3,000 people).\n",
      "\n",
      "It can be downloaded/loaded using the\n",
      ":func:`sklearn.datasets.fetch_california_housing` function.\n",
      "\n",
      ".. topic:: References\n",
      "\n",
      "    - Pace, R. Kelley and Ronald Barry, Sparse Spatial Autoregressions,\n",
      "      Statistics and Probability Letters, 33 (1997) 291-297\n",
      "\n",
      "(20640, 8)\n",
      "(20640,)\n"
     ]
    }
   ],
   "source": [
    "from sklearn.datasets import fetch_california_housing\n",
    "\n",
    "housing = fetch_california_housing()\n",
    "print(housing.DESCR)\n",
    "print(housing.data.shape)\n",
    "print(housing.target.shape)"
   ]
  },
  {
   "cell_type": "code",
   "execution_count": 3,
   "metadata": {},
   "outputs": [
    {
     "name": "stdout",
     "output_type": "stream",
     "text": [
      "(11610, 8) (11610,)\n",
      "(3870, 8) (3870,)\n",
      "(5160, 8) (5160,)\n"
     ]
    }
   ],
   "source": [
    "from sklearn.model_selection import train_test_split\n",
    "\n",
    "x_train_all, x_test, y_train_all, y_test = train_test_split(\n",
    "    housing.data, housing.target, random_state = 7)\n",
    "x_train, x_valid, y_train, y_valid = train_test_split(\n",
    "    x_train_all, y_train_all, random_state = 11)\n",
    "print(x_train.shape, y_train.shape)\n",
    "print(x_valid.shape, y_valid.shape)\n",
    "print(x_test.shape, y_test.shape)\n"
   ]
  },
  {
   "cell_type": "code",
   "execution_count": 4,
   "metadata": {},
   "outputs": [],
   "source": [
    "from sklearn.preprocessing import StandardScaler\n",
    "\n",
    "scaler = StandardScaler()\n",
    "x_train_scaled = scaler.fit_transform(x_train)\n",
    "x_valid_scaled = scaler.transform(x_valid)\n",
    "x_test_scaled = scaler.transform(x_test)"
   ]
  },
  {
   "cell_type": "code",
   "execution_count": 6,
   "metadata": {},
   "outputs": [
    {
     "name": "stdout",
     "output_type": "stream",
     "text": [
      "Model: \"model\"\n",
      "__________________________________________________________________________________________________\n",
      "Layer (type)                    Output Shape         Param #     Connected to                     \n",
      "==================================================================================================\n",
      "input_2 (InputLayer)            [(None, 8)]          0                                            \n",
      "__________________________________________________________________________________________________\n",
      "dense_3 (Dense)                 (None, 30)           270         input_2[0][0]                    \n",
      "__________________________________________________________________________________________________\n",
      "dense_4 (Dense)                 (None, 30)           930         dense_3[0][0]                    \n",
      "__________________________________________________________________________________________________\n",
      "concatenate_1 (Concatenate)     (None, 38)           0           input_2[0][0]                    \n",
      "                                                                 dense_4[0][0]                    \n",
      "__________________________________________________________________________________________________\n",
      "dense_5 (Dense)                 (None, 1)            39          concatenate_1[0][0]              \n",
      "==================================================================================================\n",
      "Total params: 1,239\n",
      "Trainable params: 1,239\n",
      "Non-trainable params: 0\n",
      "__________________________________________________________________________________________________\n"
     ]
    }
   ],
   "source": [
    "# 函数式API 功能API\n",
    "input = keras.layers.Input(shape=x_train.shape[1:])\n",
    "hidden1 = keras.layers.Dense(30, activation='relu')(input)\n",
    "hidden2 = keras.layers.Dense(30, activation='relu')(hidden1)\n",
    "# 复合函数: f(x) = h(g(x))\n",
    "\n",
    "concat = keras.layers.concatenate([input, hidden2])\n",
    "output = keras.layers.Dense(1)(concat)\n",
    "\n",
    "model = keras.models.Model(inputs = [input],\n",
    "                           outputs = [output])\n",
    "\n",
    "model.summary()\n",
    "model.compile(loss=\"mean_squared_error\", optimizer=\"sgd\")\n",
    "callbacks = [keras.callbacks.EarlyStopping(\n",
    "    patience=5, min_delta=1e-2)]"
   ]
  },
  {
   "cell_type": "code",
   "execution_count": 7,
   "metadata": {},
   "outputs": [
    {
     "name": "stdout",
     "output_type": "stream",
     "text": [
      "Train on 11610 samples, validate on 3870 samples\n",
      "Epoch 1/100\n",
      "11610/11610 [==============================] - 1s 101us/sample - loss: 1.7293 - val_loss: 0.8529\n",
      "Epoch 2/100\n",
      "11610/11610 [==============================] - 1s 64us/sample - loss: 0.6980 - val_loss: 0.7257\n",
      "Epoch 3/100\n",
      "11610/11610 [==============================] - 1s 63us/sample - loss: 0.6453 - val_loss: 0.6850\n",
      "Epoch 4/100\n",
      "11610/11610 [==============================] - 1s 85us/sample - loss: 0.6151 - val_loss: 0.6576\n",
      "Epoch 5/100\n",
      "11610/11610 [==============================] - 1s 76us/sample - loss: 0.5935 - val_loss: 0.6316\n",
      "Epoch 6/100\n",
      "11610/11610 [==============================] - 1s 67us/sample - loss: 0.5753 - val_loss: 0.6182\n",
      "Epoch 7/100\n",
      "11610/11610 [==============================] - 1s 66us/sample - loss: 0.5621 - val_loss: 0.5981\n",
      "Epoch 8/100\n",
      "11610/11610 [==============================] - 1s 64us/sample - loss: 0.5495 - val_loss: 0.5862\n",
      "Epoch 9/100\n",
      "11610/11610 [==============================] - 1s 62us/sample - loss: 0.5390 - val_loss: 0.5735\n",
      "Epoch 10/100\n",
      "11610/11610 [==============================] - 1s 62us/sample - loss: 0.5309 - val_loss: 0.5687\n",
      "Epoch 11/100\n",
      "11610/11610 [==============================] - 1s 64us/sample - loss: 0.5223 - val_loss: 0.5575\n",
      "Epoch 12/100\n",
      "11610/11610 [==============================] - 1s 63us/sample - loss: 0.5175 - val_loss: 0.5526\n",
      "Epoch 13/100\n",
      "11610/11610 [==============================] - 1s 65us/sample - loss: 0.5096 - val_loss: 0.5431\n",
      "Epoch 14/100\n",
      "11610/11610 [==============================] - 1s 63us/sample - loss: 0.5038 - val_loss: 0.5351\n",
      "Epoch 15/100\n",
      "11610/11610 [==============================] - 1s 68us/sample - loss: 0.4983 - val_loss: 0.5287\n",
      "Epoch 16/100\n",
      "11610/11610 [==============================] - 1s 63us/sample - loss: 0.4940 - val_loss: 0.5236\n",
      "Epoch 17/100\n",
      "11610/11610 [==============================] - 1s 63us/sample - loss: 0.4893 - val_loss: 0.5187\n",
      "Epoch 18/100\n",
      "11610/11610 [==============================] - 1s 66us/sample - loss: 0.4849 - val_loss: 0.5140\n",
      "Epoch 19/100\n",
      "11610/11610 [==============================] - 1s 65us/sample - loss: 0.4815 - val_loss: 0.5111\n",
      "Epoch 20/100\n",
      "11610/11610 [==============================] - 1s 63us/sample - loss: 0.4773 - val_loss: 0.5070\n",
      "Epoch 21/100\n",
      "11610/11610 [==============================] - 1s 74us/sample - loss: 0.4734 - val_loss: 0.5102\n",
      "Epoch 22/100\n",
      "11610/11610 [==============================] - 1s 63us/sample - loss: 0.4704 - val_loss: 0.5025\n",
      "Epoch 23/100\n",
      "11610/11610 [==============================] - 1s 66us/sample - loss: 0.4669 - val_loss: 0.4957\n",
      "Epoch 24/100\n",
      "11610/11610 [==============================] - 1s 63us/sample - loss: 0.4637 - val_loss: 0.4966\n",
      "Epoch 25/100\n",
      "11610/11610 [==============================] - 1s 66us/sample - loss: 0.4607 - val_loss: 0.4891\n",
      "Epoch 26/100\n",
      "11610/11610 [==============================] - 1s 65us/sample - loss: 0.4579 - val_loss: 0.4860\n",
      "Epoch 27/100\n",
      "11610/11610 [==============================] - 1s 62us/sample - loss: 0.4553 - val_loss: 0.4826\n",
      "Epoch 28/100\n",
      "11610/11610 [==============================] - 1s 63us/sample - loss: 0.4520 - val_loss: 0.4829\n",
      "Epoch 29/100\n",
      "11610/11610 [==============================] - 1s 65us/sample - loss: 0.4494 - val_loss: 0.4774\n",
      "Epoch 30/100\n",
      "11610/11610 [==============================] - 1s 65us/sample - loss: 0.4466 - val_loss: 0.4795\n",
      "Epoch 31/100\n",
      "11610/11610 [==============================] - 1s 66us/sample - loss: 0.4438 - val_loss: 0.4702\n",
      "Epoch 32/100\n",
      "11610/11610 [==============================] - 1s 68us/sample - loss: 0.4414 - val_loss: 0.4668\n",
      "Epoch 33/100\n",
      "11610/11610 [==============================] - 1s 66us/sample - loss: 0.4386 - val_loss: 0.4639\n",
      "Epoch 34/100\n",
      "11610/11610 [==============================] - 1s 70us/sample - loss: 0.4372 - val_loss: 0.4627\n",
      "Epoch 35/100\n",
      "11610/11610 [==============================] - 1s 68us/sample - loss: 0.4345 - val_loss: 0.4601\n",
      "Epoch 36/100\n",
      "11610/11610 [==============================] - 1s 66us/sample - loss: 0.4318 - val_loss: 0.4618\n",
      "Epoch 37/100\n",
      "11610/11610 [==============================] - 1s 65us/sample - loss: 0.4296 - val_loss: 0.4558\n",
      "Epoch 38/100\n",
      "11610/11610 [==============================] - 1s 71us/sample - loss: 0.4271 - val_loss: 0.4534\n",
      "Epoch 39/100\n",
      "11610/11610 [==============================] - 1s 66us/sample - loss: 0.4262 - val_loss: 0.4511\n",
      "Epoch 40/100\n",
      "11610/11610 [==============================] - 1s 66us/sample - loss: 0.4237 - val_loss: 0.4481\n",
      "Epoch 41/100\n",
      "11610/11610 [==============================] - 1s 71us/sample - loss: 0.4214 - val_loss: 0.4470\n",
      "Epoch 42/100\n",
      "11610/11610 [==============================] - 1s 65us/sample - loss: 0.4187 - val_loss: 0.4453\n",
      "Epoch 43/100\n",
      "11610/11610 [==============================] - 1s 66us/sample - loss: 0.4172 - val_loss: 0.4416\n",
      "Epoch 44/100\n",
      "11610/11610 [==============================] - 1s 69us/sample - loss: 0.4160 - val_loss: 0.4411\n",
      "Epoch 45/100\n",
      "11610/11610 [==============================] - 1s 70us/sample - loss: 0.4133 - val_loss: 0.4348\n",
      "Epoch 46/100\n",
      "11610/11610 [==============================] - 1s 66us/sample - loss: 0.4115 - val_loss: 0.4336\n",
      "Epoch 47/100\n",
      "11610/11610 [==============================] - 1s 72us/sample - loss: 0.4097 - val_loss: 0.4324\n",
      "Epoch 48/100\n",
      "11610/11610 [==============================] - 1s 72us/sample - loss: 0.4079 - val_loss: 0.4288\n",
      "Epoch 49/100\n",
      "11610/11610 [==============================] - 1s 66us/sample - loss: 0.4070 - val_loss: 0.4271\n",
      "Epoch 50/100\n",
      "11610/11610 [==============================] - 1s 67us/sample - loss: 0.4049 - val_loss: 0.4294\n"
     ]
    }
   ],
   "source": [
    "history = model.fit(x_train_scaled, y_train,\n",
    "                    validation_data = (x_valid_scaled, y_valid),\n",
    "                    epochs = 100,\n",
    "                    callbacks = callbacks)"
   ]
  },
  {
   "cell_type": "code",
   "execution_count": 8,
   "metadata": {},
   "outputs": [
    {
     "data": {
      "image/png": "[encoded data removed]",
      "text/plain": [
       "<Figure size 576x360 with 1 Axes>"
      ]
     },
     "metadata": {
      "needs_background": "light"
     },
     "output_type": "display_data"
    }
   ],
   "source": [
    "def plot_learning_curves(history):\n",
    "    pd.DataFrame(history.history).plot(figsize=(8, 5))\n",
    "    plt.grid(True)\n",
    "    plt.gca().set_ylim(0, 1)\n",
    "    plt.show()\n",
    "plot_learning_curves(history)"
   ]
  },
  {
   "cell_type": "code",
   "execution_count": 9,
   "metadata": {},
   "outputs": [
    {
     "name": "stdout",
     "output_type": "stream",
     "text": [
      "5160/5160 [==============================] - 0s 33us/sample - loss: 0.4243\n"
     ]
    },
    {
     "data": {
      "text/plain": [
       "0.42432791586070095"
      ]
     },
     "execution_count": 9,
     "metadata": {},
     "output_type": "execute_result"
    }
   ],
   "source": [
    "model.evaluate(x_test_scaled, y_test)"
   ]
  },
  {
   "cell_type": "code",
   "execution_count": null,
   "metadata": {},
   "outputs": [],
   "source": []
  }
 ],
 "metadata": {
  "kernelspec": {
   "display_name": "Python 3",
   "language": "python",
   "name": "python3"
  },
  "language_info": {
   "codemirror_mode": {
    "name": "ipython",
    "version": 3
   },
   "file_extension": ".py",
   "mimetype": "text/x-python",
   "name": "python",
   "nbconvert_exporter": "python",
   "pygments_lexer": "ipython3",
   "version": "3.7.3"
  }
 },
 "nbformat": 4,
 "nbformat_minor": 2
}

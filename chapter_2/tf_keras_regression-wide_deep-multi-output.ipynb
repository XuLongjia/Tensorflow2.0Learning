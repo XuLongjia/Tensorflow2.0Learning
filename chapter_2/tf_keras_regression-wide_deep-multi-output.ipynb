{
 "cells": [
  {
   "cell_type": "code",
   "execution_count": 1,
   "metadata": {},
   "outputs": [
    {
     "name": "stdout",
     "output_type": "stream",
     "text": [
      "2.0.0-alpha0\n",
      "sys.version_info(major=3, minor=7, micro=3, releaselevel='final', serial=0)\n",
      "matplotlib 3.0.3\n",
      "numpy 1.16.2\n",
      "pandas 0.24.2\n",
      "sklearn 0.20.3\n",
      "tensorflow 2.0.0-alpha0\n",
      "tensorflow.python.keras.api._v2.keras 2.2.4-tf\n"
     ]
    }
   ],
   "source": [
    "import matplotlib as mpl\n",
    "import matplotlib.pyplot as plt\n",
    "%matplotlib inline\n",
    "import numpy as np\n",
    "import sklearn\n",
    "import pandas as pd\n",
    "import os\n",
    "import sys\n",
    "import time\n",
    "import tensorflow as tf\n",
    "\n",
    "from tensorflow import keras\n",
    "\n",
    "print(tf.__version__)\n",
    "print(sys.version_info)\n",
    "for module in mpl, np, pd, sklearn, tf, keras:\n",
    "    print(module.__name__, module.__version__)"
   ]
  },
  {
   "cell_type": "code",
   "execution_count": 2,
   "metadata": {},
   "outputs": [
    {
     "name": "stdout",
     "output_type": "stream",
     "text": [
      ".. _california_housing_dataset:\n",
      "\n",
      "California Housing dataset\n",
      "--------------------------\n",
      "\n",
      "**Data Set Characteristics:**\n",
      "\n",
      "    :Number of Instances: 20640\n",
      "\n",
      "    :Number of Attributes: 8 numeric, predictive attributes and the target\n",
      "\n",
      "    :Attribute Information:\n",
      "        - MedInc        median income in block\n",
      "        - HouseAge      median house age in block\n",
      "        - AveRooms      average number of rooms\n",
      "        - AveBedrms     average number of bedrooms\n",
      "        - Population    block population\n",
      "        - AveOccup      average house occupancy\n",
      "        - Latitude      house block latitude\n",
      "        - Longitude     house block longitude\n",
      "\n",
      "    :Missing Attribute Values: None\n",
      "\n",
      "This dataset was obtained from the StatLib repository.\n",
      "http://lib.stat.cmu.edu/datasets/\n",
      "\n",
      "The target variable is the median house value for California districts.\n",
      "\n",
      "This dataset was derived from the 1990 U.S. census, using one row per census\n",
      "block group. A block group is the smallest geographical unit for which the U.S.\n",
      "Census Bureau publishes sample data (a block group typically has a population\n",
      "of 600 to 3,000 people).\n",
      "\n",
      "It can be downloaded/loaded using the\n",
      ":func:`sklearn.datasets.fetch_california_housing` function.\n",
      "\n",
      ".. topic:: References\n",
      "\n",
      "    - Pace, R. Kelley and Ronald Barry, Sparse Spatial Autoregressions,\n",
      "      Statistics and Probability Letters, 33 (1997) 291-297\n",
      "\n",
      "(20640, 8)\n",
      "(20640,)\n"
     ]
    }
   ],
   "source": [
    "from sklearn.datasets import fetch_california_housing\n",
    "\n",
    "housing = fetch_california_housing()\n",
    "print(housing.DESCR)\n",
    "print(housing.data.shape)\n",
    "print(housing.target.shape)"
   ]
  },
  {
   "cell_type": "code",
   "execution_count": 3,
   "metadata": {},
   "outputs": [
    {
     "name": "stdout",
     "output_type": "stream",
     "text": [
      "(11610, 8) (11610,)\n",
      "(3870, 8) (3870,)\n",
      "(5160, 8) (5160,)\n"
     ]
    }
   ],
   "source": [
    "from sklearn.model_selection import train_test_split\n",
    "\n",
    "x_train_all, x_test, y_train_all, y_test = train_test_split(\n",
    "    housing.data, housing.target, random_state = 7)\n",
    "x_train, x_valid, y_train, y_valid = train_test_split(\n",
    "    x_train_all, y_train_all, random_state = 11)\n",
    "print(x_train.shape, y_train.shape)\n",
    "print(x_valid.shape, y_valid.shape)\n",
    "print(x_test.shape, y_test.shape)\n"
   ]
  },
  {
   "cell_type": "code",
   "execution_count": 4,
   "metadata": {},
   "outputs": [],
   "source": [
    "from sklearn.preprocessing import StandardScaler\n",
    "\n",
    "scaler = StandardScaler()\n",
    "x_train_scaled = scaler.fit_transform(x_train)\n",
    "x_valid_scaled = scaler.transform(x_valid)\n",
    "x_test_scaled = scaler.transform(x_test)"
   ]
  },
  {
   "cell_type": "code",
   "execution_count": 5,
   "metadata": {},
   "outputs": [
    {
     "name": "stdout",
     "output_type": "stream",
     "text": [
      "Model: \"model\"\n",
      "__________________________________________________________________________________________________\n",
      "Layer (type)                    Output Shape         Param #     Connected to                     \n",
      "==================================================================================================\n",
      "input_2 (InputLayer)            [(None, 6)]          0                                            \n",
      "__________________________________________________________________________________________________\n",
      "dense (Dense)                   (None, 30)           210         input_2[0][0]                    \n",
      "__________________________________________________________________________________________________\n",
      "input_1 (InputLayer)            [(None, 5)]          0                                            \n",
      "__________________________________________________________________________________________________\n",
      "dense_1 (Dense)                 (None, 30)           930         dense[0][0]                      \n",
      "__________________________________________________________________________________________________\n",
      "concatenate (Concatenate)       (None, 35)           0           input_1[0][0]                    \n",
      "                                                                 dense_1[0][0]                    \n",
      "__________________________________________________________________________________________________\n",
      "dense_2 (Dense)                 (None, 1)            36          concatenate[0][0]                \n",
      "__________________________________________________________________________________________________\n",
      "dense_3 (Dense)                 (None, 1)            31          dense_1[0][0]                    \n",
      "==================================================================================================\n",
      "Total params: 1,207\n",
      "Trainable params: 1,207\n",
      "Non-trainable params: 0\n",
      "__________________________________________________________________________________________________\n"
     ]
    }
   ],
   "source": [
    "# 多输出\n",
    "input_wide = keras.layers.Input(shape=[5])\n",
    "input_deep = keras.layers.Input(shape=[6])\n",
    "hidden1 = keras.layers.Dense(30, activation='relu')(input_deep)\n",
    "hidden2 = keras.layers.Dense(30, activation='relu')(hidden1)\n",
    "concat = keras.layers.concatenate([input_wide, hidden2])\n",
    "output = keras.layers.Dense(1)(concat)\n",
    "output2 = keras.layers.Dense(1)(hidden2)\n",
    "model = keras.models.Model(inputs = [input_wide, input_deep],\n",
    "                           outputs = [output, output2])\n",
    "        \n",
    "\n",
    "model.compile(loss=\"mean_squared_error\", optimizer=\"sgd\")\n",
    "callbacks = [keras.callbacks.EarlyStopping(\n",
    "    patience=5, min_delta=1e-2)]\n",
    "model.summary()"
   ]
  },
  {
   "cell_type": "code",
   "execution_count": 6,
   "metadata": {},
   "outputs": [
    {
     "name": "stdout",
     "output_type": "stream",
     "text": [
      "Train on 11610 samples, validate on 3870 samples\n",
      "Epoch 1/100\n",
      "11610/11610 [==============================] - 2s 140us/sample - loss: 3.6413 - dense_2_loss: 1.5262 - dense_3_loss: 2.1151 - val_loss: 2.2663 - val_dense_2_loss: 0.8204 - val_dense_3_loss: 1.4458\n",
      "Epoch 2/100\n",
      "11610/11610 [==============================] - 1s 88us/sample - loss: 1.8789 - dense_2_loss: 0.6661 - dense_3_loss: 1.2128 - val_loss: 1.8468 - val_dense_2_loss: 0.6580 - val_dense_3_loss: 1.1888\n",
      "Epoch 3/100\n",
      "11610/11610 [==============================] - 1s 79us/sample - loss: 1.5835 - dense_2_loss: 0.5710 - dense_3_loss: 1.0125 - val_loss: 1.5989 - val_dense_2_loss: 0.5898 - val_dense_3_loss: 1.0091\n",
      "Epoch 4/100\n",
      "11610/11610 [==============================] - 1s 80us/sample - loss: 1.3976 - dense_2_loss: 0.5262 - dense_3_loss: 0.8714 - val_loss: 1.4309 - val_dense_2_loss: 0.5472 - val_dense_3_loss: 0.8836\n",
      "Epoch 5/100\n",
      "11610/11610 [==============================] - ETA: 0s - loss: 1.2764 - dense_2_loss: 0.4979 - dense_3_loss: 0.778 - 1s 79us/sample - loss: 1.2825 - dense_2_loss: 0.5015 - dense_3_loss: 0.7810 - val_loss: 1.3238 - val_dense_2_loss: 0.5219 - val_dense_3_loss: 0.8019\n",
      "Epoch 6/100\n",
      "11610/11610 [==============================] - 1s 80us/sample - loss: 1.2132 - dense_2_loss: 0.4863 - dense_3_loss: 0.7269 - val_loss: 1.2727 - val_dense_2_loss: 0.5119 - val_dense_3_loss: 0.7608\n",
      "Epoch 7/100\n",
      "11610/11610 [==============================] - 1s 81us/sample - loss: 1.1686 - dense_2_loss: 0.4757 - dense_3_loss: 0.6930 - val_loss: 1.2327 - val_dense_2_loss: 0.4978 - val_dense_3_loss: 0.7349\n",
      "Epoch 8/100\n",
      "11610/11610 [==============================] - 1s 88us/sample - loss: 1.1376 - dense_2_loss: 0.4672 - dense_3_loss: 0.6703 - val_loss: 1.1997 - val_dense_2_loss: 0.4886 - val_dense_3_loss: 0.7111\n",
      "Epoch 9/100\n",
      "11610/11610 [==============================] - 1s 81us/sample - loss: 1.1138 - dense_2_loss: 0.4601 - dense_3_loss: 0.6536 - val_loss: 1.1747 - val_dense_2_loss: 0.4840 - val_dense_3_loss: 0.6906\n",
      "Epoch 10/100\n",
      "11610/11610 [==============================] - 1s 81us/sample - loss: 1.0968 - dense_2_loss: 0.4543 - dense_3_loss: 0.6425 - val_loss: 1.1461 - val_dense_2_loss: 0.4736 - val_dense_3_loss: 0.6725\n",
      "Epoch 11/100\n",
      "11610/11610 [==============================] - 1s 85us/sample - loss: 1.0796 - dense_2_loss: 0.4485 - dense_3_loss: 0.6310 - val_loss: 1.1379 - val_dense_2_loss: 0.4675 - val_dense_3_loss: 0.6704\n",
      "Epoch 12/100\n",
      "11610/11610 [==============================] - 1s 84us/sample - loss: 1.0631 - dense_2_loss: 0.4433 - dense_3_loss: 0.6197 - val_loss: 1.1426 - val_dense_2_loss: 0.4735 - val_dense_3_loss: 0.6692\n",
      "Epoch 13/100\n",
      "11610/11610 [==============================] - 1s 93us/sample - loss: 1.0549 - dense_2_loss: 0.4428 - dense_3_loss: 0.6122 - val_loss: 1.1115 - val_dense_2_loss: 0.4630 - val_dense_3_loss: 0.6485\n",
      "Epoch 14/100\n",
      "11610/11610 [==============================] - 1s 79us/sample - loss: 1.0378 - dense_2_loss: 0.4353 - dense_3_loss: 0.6025 - val_loss: 1.0915 - val_dense_2_loss: 0.4555 - val_dense_3_loss: 0.6360\n",
      "Epoch 15/100\n",
      "11610/11610 [==============================] - 1s 84us/sample - loss: 1.0282 - dense_2_loss: 0.4323 - dense_3_loss: 0.5959 - val_loss: 1.0773 - val_dense_2_loss: 0.4500 - val_dense_3_loss: 0.6273\n",
      "Epoch 16/100\n",
      "11610/11610 [==============================] - 1s 84us/sample - loss: 1.0175 - dense_2_loss: 0.4286 - dense_3_loss: 0.5890 - val_loss: 1.0693 - val_dense_2_loss: 0.4482 - val_dense_3_loss: 0.6211\n",
      "Epoch 17/100\n",
      "11610/11610 [==============================] - 1s 80us/sample - loss: 1.0067 - dense_2_loss: 0.4244 - dense_3_loss: 0.5823 - val_loss: 1.0554 - val_dense_2_loss: 0.4465 - val_dense_3_loss: 0.6089\n",
      "Epoch 18/100\n",
      "11610/11610 [==============================] - 1s 80us/sample - loss: 0.9975 - dense_2_loss: 0.4210 - dense_3_loss: 0.5765 - val_loss: 1.0694 - val_dense_2_loss: 0.4401 - val_dense_3_loss: 0.6294\n",
      "Epoch 19/100\n",
      "11610/11610 [==============================] - 1s 79us/sample - loss: 0.9886 - dense_2_loss: 0.4181 - dense_3_loss: 0.5705 - val_loss: 1.0536 - val_dense_2_loss: 0.4451 - val_dense_3_loss: 0.6085\n",
      "Epoch 20/100\n",
      "11610/11610 [==============================] - 1s 81us/sample - loss: 0.9822 - dense_2_loss: 0.4157 - dense_3_loss: 0.5665 - val_loss: 1.0462 - val_dense_2_loss: 0.4325 - val_dense_3_loss: 0.6136\n",
      "Epoch 21/100\n",
      "11610/11610 [==============================] - 1s 84us/sample - loss: 0.9780 - dense_2_loss: 0.4159 - dense_3_loss: 0.5620 - val_loss: 1.0174 - val_dense_2_loss: 0.4300 - val_dense_3_loss: 0.5874\n",
      "Epoch 22/100\n",
      "11610/11610 [==============================] - 1s 106us/sample - loss: 0.9678 - dense_2_loss: 0.4112 - dense_3_loss: 0.5565 - val_loss: 1.0175 - val_dense_2_loss: 0.4294 - val_dense_3_loss: 0.5881\n",
      "Epoch 23/100\n",
      "11610/11610 [==============================] - 1s 93us/sample - loss: 0.9600 - dense_2_loss: 0.4086 - dense_3_loss: 0.5514 - val_loss: 1.0108 - val_dense_2_loss: 0.4281 - val_dense_3_loss: 0.5827\n",
      "Epoch 24/100\n",
      "11610/11610 [==============================] - 1s 80us/sample - loss: 0.9530 - dense_2_loss: 0.4061 - dense_3_loss: 0.5469 - val_loss: 0.9944 - val_dense_2_loss: 0.4251 - val_dense_3_loss: 0.5693\n",
      "Epoch 25/100\n",
      "11610/11610 [==============================] - 1s 82us/sample - loss: 0.9485 - dense_2_loss: 0.4046 - dense_3_loss: 0.5439 - val_loss: 0.9847 - val_dense_2_loss: 0.4209 - val_dense_3_loss: 0.5638\n",
      "Epoch 26/100\n",
      "11610/11610 [==============================] - 1s 79us/sample - loss: 0.9414 - dense_2_loss: 0.4023 - dense_3_loss: 0.5391 - val_loss: 0.9886 - val_dense_2_loss: 0.4198 - val_dense_3_loss: 0.5688\n",
      "Epoch 27/100\n",
      "11610/11610 [==============================] - 1s 86us/sample - loss: 0.9357 - dense_2_loss: 0.4009 - dense_3_loss: 0.5348 - val_loss: 0.9763 - val_dense_2_loss: 0.4161 - val_dense_3_loss: 0.5603: 0.9302 - dense_2_loss: 0.3987 - dense_3_loss: 0.531\n",
      "Epoch 28/100\n",
      "11610/11610 [==============================] - 1s 81us/sample - loss: 0.9318 - dense_2_loss: 0.3995 - dense_3_loss: 0.5324 - val_loss: 0.9689 - val_dense_2_loss: 0.4207 - val_dense_3_loss: 0.5482\n",
      "Epoch 29/100\n",
      "11610/11610 [==============================] - 1s 82us/sample - loss: 0.9261 - dense_2_loss: 0.3977 - dense_3_loss: 0.5284 - val_loss: 0.9697 - val_dense_2_loss: 0.4249 - val_dense_3_loss: 0.5448\n",
      "Epoch 30/100\n",
      "11610/11610 [==============================] - 1s 83us/sample - loss: 0.9218 - dense_2_loss: 0.3957 - dense_3_loss: 0.5262 - val_loss: 0.9668 - val_dense_2_loss: 0.4101 - val_dense_3_loss: 0.5567\n",
      "Epoch 31/100\n",
      "11610/11610 [==============================] - 1s 82us/sample - loss: 0.9153 - dense_2_loss: 0.3932 - dense_3_loss: 0.5221 - val_loss: 0.9519 - val_dense_2_loss: 0.4112 - val_dense_3_loss: 0.5408\n",
      "Epoch 32/100\n",
      "11610/11610 [==============================] - 1s 82us/sample - loss: 0.9108 - dense_2_loss: 0.3936 - dense_3_loss: 0.5172 - val_loss: 0.9602 - val_dense_2_loss: 0.4086 - val_dense_3_loss: 0.5517\n",
      "Epoch 33/100\n",
      "11610/11610 [==============================] - 1s 84us/sample - loss: 0.9040 - dense_2_loss: 0.3907 - dense_3_loss: 0.5133 - val_loss: 0.9442 - val_dense_2_loss: 0.4094 - val_dense_3_loss: 0.5349\n",
      "Epoch 34/100\n",
      "11610/11610 [==============================] - 1s 94us/sample - loss: 0.9035 - dense_2_loss: 0.3889 - dense_3_loss: 0.5146 - val_loss: 0.9439 - val_dense_2_loss: 0.4062 - val_dense_3_loss: 0.5378\n",
      "Epoch 35/100\n",
      "11610/11610 [==============================] - 1s 81us/sample - loss: 0.8949 - dense_2_loss: 0.3877 - dense_3_loss: 0.5072 - val_loss: 0.9287 - val_dense_2_loss: 0.4023 - val_dense_3_loss: 0.5264\n",
      "Epoch 36/100\n",
      "11610/11610 [==============================] - 1s 83us/sample - loss: 0.8912 - dense_2_loss: 0.3875 - dense_3_loss: 0.5037 - val_loss: 0.9336 - val_dense_2_loss: 0.4143 - val_dense_3_loss: 0.5193\n",
      "Epoch 37/100\n",
      "11610/11610 [==============================] - 1s 80us/sample - loss: 0.8951 - dense_2_loss: 0.3864 - dense_3_loss: 0.5086 - val_loss: 0.9203 - val_dense_2_loss: 0.4000 - val_dense_3_loss: 0.5203\n",
      "Epoch 38/100\n",
      "11610/11610 [==============================] - 1s 81us/sample - loss: 0.8817 - dense_2_loss: 0.3841 - dense_3_loss: 0.4976 - val_loss: 0.9189 - val_dense_2_loss: 0.3986 - val_dense_3_loss: 0.5203\n",
      "Epoch 39/100\n"
     ]
    },
    {
     "name": "stdout",
     "output_type": "stream",
     "text": [
      "11610/11610 [==============================] - 1s 74us/sample - loss: 0.8775 - dense_2_loss: 0.3826 - dense_3_loss: 0.4948 - val_loss: 0.9162 - val_dense_2_loss: 0.3983 - val_dense_3_loss: 0.5179\n",
      "Epoch 40/100\n",
      "11610/11610 [==============================] - 1s 74us/sample - loss: 0.8731 - dense_2_loss: 0.3807 - dense_3_loss: 0.4924 - val_loss: 0.9095 - val_dense_2_loss: 0.3961 - val_dense_3_loss: 0.5134\n",
      "Epoch 41/100\n",
      "11610/11610 [==============================] - 1s 76us/sample - loss: 0.8670 - dense_2_loss: 0.3797 - dense_3_loss: 0.4873 - val_loss: 0.9023 - val_dense_2_loss: 0.3983 - val_dense_3_loss: 0.5040\n",
      "Epoch 42/100\n",
      "11610/11610 [==============================] - 1s 76us/sample - loss: 0.8754 - dense_2_loss: 0.3817 - dense_3_loss: 0.4937 - val_loss: 0.9016 - val_dense_2_loss: 0.3941 - val_dense_3_loss: 0.5075\n",
      "Epoch 43/100\n",
      "11610/11610 [==============================] - 1s 74us/sample - loss: 0.8630 - dense_2_loss: 0.3779 - dense_3_loss: 0.4852 - val_loss: 0.9117 - val_dense_2_loss: 0.3914 - val_dense_3_loss: 0.5203\n",
      "Epoch 44/100\n",
      "11610/11610 [==============================] - 1s 75us/sample - loss: 0.8605 - dense_2_loss: 0.3767 - dense_3_loss: 0.4838 - val_loss: 1.0203 - val_dense_2_loss: 0.4092 - val_dense_3_loss: 0.6111\n",
      "Epoch 45/100\n",
      "11610/11610 [==============================] - 1s 79us/sample - loss: 0.8569 - dense_2_loss: 0.3762 - dense_3_loss: 0.4807 - val_loss: 0.9213 - val_dense_2_loss: 0.3898 - val_dense_3_loss: 0.5315\n",
      "Epoch 46/100\n",
      "11610/11610 [==============================] - 1s 74us/sample - loss: 0.8488 - dense_2_loss: 0.3735 - dense_3_loss: 0.4753 - val_loss: 0.8888 - val_dense_2_loss: 0.3935 - val_dense_3_loss: 0.4953\n",
      "Epoch 47/100\n",
      "11610/11610 [==============================] - 1s 75us/sample - loss: 0.8507 - dense_2_loss: 0.3743 - dense_3_loss: 0.4764 - val_loss: 0.8844 - val_dense_2_loss: 0.3886 - val_dense_3_loss: 0.4957\n",
      "Epoch 48/100\n",
      "11610/11610 [==============================] - 1s 74us/sample - loss: 0.8454 - dense_2_loss: 0.3733 - dense_3_loss: 0.4720 - val_loss: 0.8802 - val_dense_2_loss: 0.3925 - val_dense_3_loss: 0.4877\n",
      "Epoch 49/100\n",
      "11610/11610 [==============================] - 1s 73us/sample - loss: 0.8460 - dense_2_loss: 0.3721 - dense_3_loss: 0.4739 - val_loss: 0.8738 - val_dense_2_loss: 0.3877 - val_dense_3_loss: 0.4861\n",
      "Epoch 50/100\n",
      "11610/11610 [==============================] - 1s 75us/sample - loss: 0.8347 - dense_2_loss: 0.3695 - dense_3_loss: 0.4652 - val_loss: 0.8721 - val_dense_2_loss: 0.3856 - val_dense_3_loss: 0.4865\n",
      "Epoch 51/100\n",
      "11610/11610 [==============================] - 1s 75us/sample - loss: 0.8320 - dense_2_loss: 0.3686 - dense_3_loss: 0.4635 - val_loss: 0.8666 - val_dense_2_loss: 0.3875 - val_dense_3_loss: 0.4791\n",
      "Epoch 52/100\n",
      "11610/11610 [==============================] - 1s 76us/sample - loss: 0.8342 - dense_2_loss: 0.3693 - dense_3_loss: 0.4649 - val_loss: 0.8617 - val_dense_2_loss: 0.3849 - val_dense_3_loss: 0.4768\n",
      "Epoch 53/100\n",
      "11610/11610 [==============================] - 1s 75us/sample - loss: 0.8276 - dense_2_loss: 0.3670 - dense_3_loss: 0.4606 - val_loss: 0.8648 - val_dense_2_loss: 0.3807 - val_dense_3_loss: 0.4842\n",
      "Epoch 54/100\n",
      "11610/11610 [==============================] - 1s 88us/sample - loss: 0.8286 - dense_2_loss: 0.3677 - dense_3_loss: 0.4610 - val_loss: 0.8662 - val_dense_2_loss: 0.3795 - val_dense_3_loss: 0.4866\n",
      "Epoch 55/100\n",
      "11610/11610 [==============================] - 1s 80us/sample - loss: 0.8262 - dense_2_loss: 0.3682 - dense_3_loss: 0.4580 - val_loss: 0.8565 - val_dense_2_loss: 0.3822 - val_dense_3_loss: 0.4743\n",
      "Epoch 56/100\n",
      "11610/11610 [==============================] - 1s 90us/sample - loss: 0.8198 - dense_2_loss: 0.3643 - dense_3_loss: 0.4555 - val_loss: 0.8532 - val_dense_2_loss: 0.3808 - val_dense_3_loss: 0.4724\n",
      "Epoch 57/100\n",
      "11610/11610 [==============================] - 1s 80us/sample - loss: 0.8177 - dense_2_loss: 0.3646 - dense_3_loss: 0.4531 - val_loss: 0.8554 - val_dense_2_loss: 0.3844 - val_dense_3_loss: 0.4710\n"
     ]
    }
   ],
   "source": [
    "x_train_scaled_wide = x_train_scaled[:, :5]\n",
    "x_train_scaled_deep = x_train_scaled[:, 2:]\n",
    "x_valid_scaled_wide = x_valid_scaled[:, :5]\n",
    "x_valid_scaled_deep = x_valid_scaled[:, 2:]\n",
    "x_test_scaled_wide = x_test_scaled[:, :5]\n",
    "x_test_scaled_deep = x_test_scaled[:, 2:]\n",
    "\n",
    "history = model.fit([x_train_scaled_wide, x_train_scaled_deep],\n",
    "                    [y_train, y_train],\n",
    "                    validation_data = (\n",
    "                        [x_valid_scaled_wide, x_valid_scaled_deep],\n",
    "                        [y_valid, y_valid]),\n",
    "                    epochs = 100,\n",
    "                    callbacks = callbacks)"
   ]
  },
  {
   "cell_type": "code",
   "execution_count": 7,
   "metadata": {},
   "outputs": [
    {
     "data": {
      "image/png": "[encoded data removed]",
      "text/plain": [
       "<Figure size 576x360 with 1 Axes>"
      ]
     },
     "metadata": {
      "needs_background": "light"
     },
     "output_type": "display_data"
    }
   ],
   "source": [
    "def plot_learning_curves(history):\n",
    "    pd.DataFrame(history.history).plot(figsize=(8, 5))\n",
    "    plt.grid(True)\n",
    "    plt.gca().set_ylim(0, 1)\n",
    "    plt.show()\n",
    "plot_learning_curves(history)"
   ]
  },
  {
   "cell_type": "code",
   "execution_count": 8,
   "metadata": {},
   "outputs": [
    {
     "name": "stdout",
     "output_type": "stream",
     "text": [
      "5160/5160 [==============================] - 0s 43us/sample - loss: 0.8420 - dense_2_loss: 0.3808 - dense_3_loss: 0.4611\n"
     ]
    },
    {
     "data": {
      "text/plain": [
       "[0.8419654707575953, 0.3808211, 0.46114436]"
      ]
     },
     "execution_count": 8,
     "metadata": {},
     "output_type": "execute_result"
    }
   ],
   "source": [
    "model.evaluate([x_test_scaled_wide, x_test_scaled_deep],\n",
    "               [y_test, y_test])"
   ]
  },
  {
   "cell_type": "code",
   "execution_count": null,
   "metadata": {},
   "outputs": [],
   "source": []
  }
 ],
 "metadata": {
  "kernelspec": {
   "display_name": "Python 3",
   "language": "python",
   "name": "python3"
  },
  "language_info": {
   "codemirror_mode": {
    "name": "ipython",
    "version": 3
   },
   "file_extension": ".py",
   "mimetype": "text/x-python",
   "name": "python",
   "nbconvert_exporter": "python",
   "pygments_lexer": "ipython3",
   "version": "3.7.3"
  }
 },
 "nbformat": 4,
 "nbformat_minor": 2
}

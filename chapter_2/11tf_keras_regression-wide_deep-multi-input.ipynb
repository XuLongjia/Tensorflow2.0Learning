{
 "cells": [
  {
   "cell_type": "code",
   "execution_count": 1,
   "metadata": {},
   "outputs": [
    {
     "name": "stdout",
     "output_type": "stream",
     "text": [
      "2.0.0-alpha0\n",
      "sys.version_info(major=3, minor=7, micro=3, releaselevel='final', serial=0)\n",
      "matplotlib 3.0.3\n",
      "numpy 1.16.2\n",
      "pandas 0.24.2\n",
      "sklearn 0.20.3\n",
      "tensorflow 2.0.0-alpha0\n",
      "tensorflow.python.keras.api._v2.keras 2.2.4-tf\n"
     ]
    }
   ],
   "source": [
    "import matplotlib as mpl\n",
    "import matplotlib.pyplot as plt\n",
    "%matplotlib inline\n",
    "import numpy as np\n",
    "import sklearn\n",
    "import pandas as pd\n",
    "import os\n",
    "import sys\n",
    "import time\n",
    "import tensorflow as tf\n",
    "\n",
    "from tensorflow import keras\n",
    "\n",
    "print(tf.__version__)\n",
    "print(sys.version_info)\n",
    "for module in mpl, np, pd, sklearn, tf, keras:\n",
    "    print(module.__name__, module.__version__)"
   ]
  },
  {
   "cell_type": "code",
   "execution_count": 2,
   "metadata": {},
   "outputs": [
    {
     "name": "stdout",
     "output_type": "stream",
     "text": [
      ".. _california_housing_dataset:\n",
      "\n",
      "California Housing dataset\n",
      "--------------------------\n",
      "\n",
      "**Data Set Characteristics:**\n",
      "\n",
      "    :Number of Instances: 20640\n",
      "\n",
      "    :Number of Attributes: 8 numeric, predictive attributes and the target\n",
      "\n",
      "    :Attribute Information:\n",
      "        - MedInc        median income in block\n",
      "        - HouseAge      median house age in block\n",
      "        - AveRooms      average number of rooms\n",
      "        - AveBedrms     average number of bedrooms\n",
      "        - Population    block population\n",
      "        - AveOccup      average house occupancy\n",
      "        - Latitude      house block latitude\n",
      "        - Longitude     house block longitude\n",
      "\n",
      "    :Missing Attribute Values: None\n",
      "\n",
      "This dataset was obtained from the StatLib repository.\n",
      "http://lib.stat.cmu.edu/datasets/\n",
      "\n",
      "The target variable is the median house value for California districts.\n",
      "\n",
      "This dataset was derived from the 1990 U.S. census, using one row per census\n",
      "block group. A block group is the smallest geographical unit for which the U.S.\n",
      "Census Bureau publishes sample data (a block group typically has a population\n",
      "of 600 to 3,000 people).\n",
      "\n",
      "It can be downloaded/loaded using the\n",
      ":func:`sklearn.datasets.fetch_california_housing` function.\n",
      "\n",
      ".. topic:: References\n",
      "\n",
      "    - Pace, R. Kelley and Ronald Barry, Sparse Spatial Autoregressions,\n",
      "      Statistics and Probability Letters, 33 (1997) 291-297\n",
      "\n",
      "(20640, 8)\n",
      "(20640,)\n"
     ]
    }
   ],
   "source": [
    "from sklearn.datasets import fetch_california_housing\n",
    "\n",
    "housing = fetch_california_housing()\n",
    "print(housing.DESCR)\n",
    "print(housing.data.shape)\n",
    "print(housing.target.shape)"
   ]
  },
  {
   "cell_type": "code",
   "execution_count": 3,
   "metadata": {},
   "outputs": [
    {
     "name": "stdout",
     "output_type": "stream",
     "text": [
      "(11610, 8) (11610,)\n",
      "(3870, 8) (3870,)\n",
      "(5160, 8) (5160,)\n"
     ]
    }
   ],
   "source": [
    "from sklearn.model_selection import train_test_split\n",
    "\n",
    "x_train_all, x_test, y_train_all, y_test = train_test_split(\n",
    "    housing.data, housing.target, random_state = 7)\n",
    "x_train, x_valid, y_train, y_valid = train_test_split(\n",
    "    x_train_all, y_train_all, random_state = 11)\n",
    "print(x_train.shape, y_train.shape)\n",
    "print(x_valid.shape, y_valid.shape)\n",
    "print(x_test.shape, y_test.shape)\n"
   ]
  },
  {
   "cell_type": "code",
   "execution_count": 4,
   "metadata": {},
   "outputs": [],
   "source": [
    "from sklearn.preprocessing import StandardScaler\n",
    "\n",
    "scaler = StandardScaler()\n",
    "x_train_scaled = scaler.fit_transform(x_train)\n",
    "x_valid_scaled = scaler.transform(x_valid)\n",
    "x_test_scaled = scaler.transform(x_test)"
   ]
  },
  {
   "cell_type": "code",
   "execution_count": 6,
   "metadata": {},
   "outputs": [
    {
     "name": "stdout",
     "output_type": "stream",
     "text": [
      "Model: \"model\"\n",
      "__________________________________________________________________________________________________\n",
      "Layer (type)                    Output Shape         Param #     Connected to                     \n",
      "==================================================================================================\n",
      "input_4 (InputLayer)            [(None, 6)]          0                                            \n",
      "__________________________________________________________________________________________________\n",
      "dense_3 (Dense)                 (None, 30)           210         input_4[0][0]                    \n",
      "__________________________________________________________________________________________________\n",
      "input_3 (InputLayer)            [(None, 5)]          0                                            \n",
      "__________________________________________________________________________________________________\n",
      "dense_4 (Dense)                 (None, 30)           930         dense_3[0][0]                    \n",
      "__________________________________________________________________________________________________\n",
      "concatenate_1 (Concatenate)     (None, 35)           0           input_3[0][0]                    \n",
      "                                                                 dense_4[0][0]                    \n",
      "__________________________________________________________________________________________________\n",
      "dense_5 (Dense)                 (None, 1)            36          concatenate_1[0][0]              \n",
      "==================================================================================================\n",
      "Total params: 1,176\n",
      "Trainable params: 1,176\n",
      "Non-trainable params: 0\n",
      "__________________________________________________________________________________________________\n"
     ]
    }
   ],
   "source": [
    "# 多输入\n",
    "input_wide = keras.layers.Input(shape=[5])\n",
    "input_deep = keras.layers.Input(shape=[6])\n",
    "hidden1 = keras.layers.Dense(30, activation='relu')(input_deep)\n",
    "hidden2 = keras.layers.Dense(30, activation='relu')(hidden1)\n",
    "concat = keras.layers.concatenate([input_wide, hidden2])\n",
    "output = keras.layers.Dense(1)(concat)\n",
    "model = keras.models.Model(inputs = [input_wide, input_deep],\n",
    "                           outputs = [output])\n",
    "        \n",
    "\n",
    "model.compile(loss=\"mean_squared_error\", optimizer=\"sgd\")\n",
    "callbacks = [keras.callbacks.EarlyStopping(\n",
    "    patience=5, min_delta=1e-2)]\n",
    "model.summary()"
   ]
  },
  {
   "cell_type": "code",
   "execution_count": 8,
   "metadata": {},
   "outputs": [
    {
     "name": "stdout",
     "output_type": "stream",
     "text": [
      "Train on 11610 samples, validate on 3870 samples\n",
      "Epoch 1/100\n",
      "11610/11610 [==============================] - 1s 84us/sample - loss: 0.8562 - val_loss: 0.7680\n",
      "Epoch 2/100\n",
      "11610/11610 [==============================] - 1s 85us/sample - loss: 0.6594 - val_loss: 0.6690\n",
      "Epoch 3/100\n",
      "11610/11610 [==============================] - 1s 84us/sample - loss: 0.6023 - val_loss: 0.6326\n",
      "Epoch 4/100\n",
      "11610/11610 [==============================] - 1s 83us/sample - loss: 0.5751 - val_loss: 0.6092\n",
      "Epoch 5/100\n",
      "11610/11610 [==============================] - 1s 84us/sample - loss: 0.5567 - val_loss: 0.6005\n",
      "Epoch 6/100\n",
      "11610/11610 [==============================] - 1s 85us/sample - loss: 0.5434 - val_loss: 0.5771\n",
      "Epoch 7/100\n",
      "11610/11610 [==============================] - 1s 84us/sample - loss: 0.5317 - val_loss: 0.5632\n",
      "Epoch 8/100\n",
      "11610/11610 [==============================] - 1s 81us/sample - loss: 0.5233 - val_loss: 0.5539\n",
      "Epoch 9/100\n",
      "11610/11610 [==============================] - 1s 84us/sample - loss: 0.5153 - val_loss: 0.5531\n",
      "Epoch 10/100\n",
      "11610/11610 [==============================] - 1s 81us/sample - loss: 0.5069 - val_loss: 0.5360\n",
      "Epoch 11/100\n",
      "11610/11610 [==============================] - 1s 81us/sample - loss: 0.5015 - val_loss: 0.5289\n",
      "Epoch 12/100\n",
      "11610/11610 [==============================] - 1s 84us/sample - loss: 0.4958 - val_loss: 0.5395\n",
      "Epoch 13/100\n",
      "11610/11610 [==============================] - 1s 84us/sample - loss: 0.4907 - val_loss: 0.5196\n",
      "Epoch 14/100\n",
      "11610/11610 [==============================] - 1s 83us/sample - loss: 0.4855 - val_loss: 0.5120\n",
      "Epoch 15/100\n",
      "11610/11610 [==============================] - 1s 84us/sample - loss: 0.4820 - val_loss: 0.5149\n",
      "Epoch 16/100\n",
      "11610/11610 [==============================] - 1s 89us/sample - loss: 0.4769 - val_loss: 0.5100\n",
      "Epoch 17/100\n",
      "11610/11610 [==============================] - 1s 90us/sample - loss: 0.4728 - val_loss: 0.5056\n",
      "Epoch 18/100\n",
      "11610/11610 [==============================] - 1s 84us/sample - loss: 0.4683 - val_loss: 0.4995\n",
      "Epoch 19/100\n",
      "11610/11610 [==============================] - 1s 80us/sample - loss: 0.4662 - val_loss: 0.4932\n",
      "Epoch 20/100\n",
      "11610/11610 [==============================] - 1s 83us/sample - loss: 0.4625 - val_loss: 0.4938\n",
      "Epoch 21/100\n",
      "11610/11610 [==============================] - 1s 80us/sample - loss: 0.4585 - val_loss: 0.4835\n",
      "Epoch 22/100\n",
      "11610/11610 [==============================] - 1s 80us/sample - loss: 0.4552 - val_loss: 0.4817\n",
      "Epoch 23/100\n",
      "11610/11610 [==============================] - 1s 81us/sample - loss: 0.4525 - val_loss: 0.4766\n",
      "Epoch 24/100\n",
      "11610/11610 [==============================] - 1s 81us/sample - loss: 0.4509 - val_loss: 0.4752\n",
      "Epoch 25/100\n",
      "11610/11610 [==============================] - 1s 84us/sample - loss: 0.4460 - val_loss: 0.4701\n",
      "Epoch 26/100\n",
      "11610/11610 [==============================] - 1s 88us/sample - loss: 0.4437 - val_loss: 0.4683\n",
      "Epoch 27/100\n",
      "11610/11610 [==============================] - 1s 88us/sample - loss: 0.4407 - val_loss: 0.4710\n",
      "Epoch 28/100\n",
      "11610/11610 [==============================] - 1s 86us/sample - loss: 0.4376 - val_loss: 0.4597\n",
      "Epoch 29/100\n",
      "11610/11610 [==============================] - 1s 85us/sample - loss: 0.4359 - val_loss: 0.4583\n",
      "Epoch 30/100\n",
      "11610/11610 [==============================] - 1s 86us/sample - loss: 0.4337 - val_loss: 0.4565\n",
      "Epoch 31/100\n",
      "11610/11610 [==============================] - 1s 85us/sample - loss: 0.4312 - val_loss: 0.4544\n",
      "Epoch 32/100\n",
      "11610/11610 [==============================] - 1s 83us/sample - loss: 0.4294 - val_loss: 0.4523\n",
      "Epoch 33/100\n",
      "11610/11610 [==============================] - 1s 85us/sample - loss: 0.4276 - val_loss: 0.4509\n"
     ]
    }
   ],
   "source": [
    "x_train_scaled_wide = x_train_scaled[:, :5]\n",
    "x_train_scaled_deep = x_train_scaled[:, 2:]\n",
    "x_valid_scaled_wide = x_valid_scaled[:, :5]\n",
    "x_valid_scaled_deep = x_valid_scaled[:, 2:]\n",
    "x_test_scaled_wide = x_test_scaled[:, :5]\n",
    "x_test_scaled_deep = x_test_scaled[:, 2:]\n",
    "\n",
    "history = model.fit([x_train_scaled_wide, x_train_scaled_deep],\n",
    "                    y_train,\n",
    "                    validation_data = (\n",
    "                        [x_valid_scaled_wide, x_valid_scaled_deep],\n",
    "                        y_valid),\n",
    "                    epochs = 100,\n",
    "                    callbacks = callbacks)"
   ]
  },
  {
   "cell_type": "code",
   "execution_count": 9,
   "metadata": {},
   "outputs": [
    {
     "data": {
      "image/png": "[encoded data removed]",
      "text/plain": [
       "<Figure size 576x360 with 1 Axes>"
      ]
     },
     "metadata": {
      "needs_background": "light"
     },
     "output_type": "display_data"
    }
   ],
   "source": [
    "def plot_learning_curves(history):\n",
    "    pd.DataFrame(history.history).plot(figsize=(8, 5))\n",
    "    plt.grid(True)\n",
    "    plt.gca().set_ylim(0, 1)\n",
    "    plt.show()\n",
    "plot_learning_curves(history)"
   ]
  },
  {
   "cell_type": "code",
   "execution_count": 10,
   "metadata": {},
   "outputs": [
    {
     "name": "stdout",
     "output_type": "stream",
     "text": [
      "5160/5160 [==============================] - 0s 45us/sample - loss: 0.43840s - loss: 0.440\n"
     ]
    },
    {
     "data": {
      "text/plain": [
       "0.4383709618287493"
      ]
     },
     "execution_count": 10,
     "metadata": {},
     "output_type": "execute_result"
    }
   ],
   "source": [
    "model.evaluate([x_test_scaled_wide, x_test_scaled_deep], y_test)"
   ]
  },
  {
   "cell_type": "code",
   "execution_count": null,
   "metadata": {},
   "outputs": [],
   "source": []
  }
 ],
 "metadata": {
  "kernelspec": {
   "display_name": "Python 3",
   "language": "python",
   "name": "python3"
  },
  "language_info": {
   "codemirror_mode": {
    "name": "ipython",
    "version": 3
   },
   "file_extension": ".py",
   "mimetype": "text/x-python",
   "name": "python",
   "nbconvert_exporter": "python",
   "pygments_lexer": "ipython3",
   "version": "3.7.3"
  }
 },
 "nbformat": 4,
 "nbformat_minor": 2
}

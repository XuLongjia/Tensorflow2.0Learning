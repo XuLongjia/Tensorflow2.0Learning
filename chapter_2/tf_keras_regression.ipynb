{
 "cells": [
  {
   "cell_type": "code",
   "execution_count": 1,
   "metadata": {},
   "outputs": [
    {
     "name": "stdout",
     "output_type": "stream",
     "text": [
      "2.0.0-alpha0\n",
      "sys.version_info(major=3, minor=7, micro=3, releaselevel='final', serial=0)\n",
      "matplotlib 3.0.3\n",
      "numpy 1.16.2\n",
      "pandas 0.24.2\n",
      "sklearn 0.20.3\n",
      "tensorflow 2.0.0-alpha0\n",
      "tensorflow.python.keras.api._v2.keras 2.2.4-tf\n"
     ]
    }
   ],
   "source": [
    "import matplotlib as mpl\n",
    "import matplotlib.pyplot as plt\n",
    "%matplotlib inline\n",
    "import numpy as np\n",
    "import sklearn\n",
    "import pandas as pd\n",
    "import os\n",
    "import sys\n",
    "import time\n",
    "import tensorflow as tf\n",
    "\n",
    "from tensorflow import keras\n",
    "\n",
    "print(tf.__version__)\n",
    "print(sys.version_info)\n",
    "for module in mpl, np, pd, sklearn, tf, keras:\n",
    "    print(module.__name__, module.__version__)"
   ]
  },
  {
   "cell_type": "code",
   "execution_count": 2,
   "metadata": {},
   "outputs": [
    {
     "name": "stderr",
     "output_type": "stream",
     "text": [
      "Downloading Cal. housing from https://ndownloader.figshare.com/files/5976036 to /Users/zhangyx/scikit_learn_data\n",
      "WARNING: Logging before flag parsing goes to stderr.\n",
      "I0407 21:12:54.897786 140736816485312 california_housing.py:114] Downloading Cal. housing from https://ndownloader.figshare.com/files/5976036 to /Users/zhangyx/scikit_learn_data\n"
     ]
    },
    {
     "name": "stdout",
     "output_type": "stream",
     "text": [
      ".. _california_housing_dataset:\n",
      "\n",
      "California Housing dataset\n",
      "--------------------------\n",
      "\n",
      "**Data Set Characteristics:**\n",
      "\n",
      "    :Number of Instances: 20640\n",
      "\n",
      "    :Number of Attributes: 8 numeric, predictive attributes and the target\n",
      "\n",
      "    :Attribute Information:\n",
      "        - MedInc        median income in block\n",
      "        - HouseAge      median house age in block\n",
      "        - AveRooms      average number of rooms\n",
      "        - AveBedrms     average number of bedrooms\n",
      "        - Population    block population\n",
      "        - AveOccup      average house occupancy\n",
      "        - Latitude      house block latitude\n",
      "        - Longitude     house block longitude\n",
      "\n",
      "    :Missing Attribute Values: None\n",
      "\n",
      "This dataset was obtained from the StatLib repository.\n",
      "http://lib.stat.cmu.edu/datasets/\n",
      "\n",
      "The target variable is the median house value for California districts.\n",
      "\n",
      "This dataset was derived from the 1990 U.S. census, using one row per census\n",
      "block group. A block group is the smallest geographical unit for which the U.S.\n",
      "Census Bureau publishes sample data (a block group typically has a population\n",
      "of 600 to 3,000 people).\n",
      "\n",
      "It can be downloaded/loaded using the\n",
      ":func:`sklearn.datasets.fetch_california_housing` function.\n",
      "\n",
      ".. topic:: References\n",
      "\n",
      "    - Pace, R. Kelley and Ronald Barry, Sparse Spatial Autoregressions,\n",
      "      Statistics and Probability Letters, 33 (1997) 291-297\n",
      "\n",
      "(20640, 8)\n",
      "(20640,)\n"
     ]
    }
   ],
   "source": [
    "from sklearn.datasets import fetch_california_housing\n",
    "\n",
    "housing = fetch_california_housing()\n",
    "print(housing.DESCR)\n",
    "print(housing.data.shape)\n",
    "print(housing.target.shape)"
   ]
  },
  {
   "cell_type": "code",
   "execution_count": 3,
   "metadata": {},
   "outputs": [
    {
     "name": "stdout",
     "output_type": "stream",
     "text": [
      "array([[ 8.32520000e+00,  4.10000000e+01,  6.98412698e+00,\n",
      "         1.02380952e+00,  3.22000000e+02,  2.55555556e+00,\n",
      "         3.78800000e+01, -1.22230000e+02],\n",
      "       [ 8.30140000e+00,  2.10000000e+01,  6.23813708e+00,\n",
      "         9.71880492e-01,  2.40100000e+03,  2.10984183e+00,\n",
      "         3.78600000e+01, -1.22220000e+02],\n",
      "       [ 7.25740000e+00,  5.20000000e+01,  8.28813559e+00,\n",
      "         1.07344633e+00,  4.96000000e+02,  2.80225989e+00,\n",
      "         3.78500000e+01, -1.22240000e+02],\n",
      "       [ 5.64310000e+00,  5.20000000e+01,  5.81735160e+00,\n",
      "         1.07305936e+00,  5.58000000e+02,  2.54794521e+00,\n",
      "         3.78500000e+01, -1.22250000e+02],\n",
      "       [ 3.84620000e+00,  5.20000000e+01,  6.28185328e+00,\n",
      "         1.08108108e+00,  5.65000000e+02,  2.18146718e+00,\n",
      "         3.78500000e+01, -1.22250000e+02]])\n",
      "array([4.526, 3.585, 3.521, 3.413, 3.422])\n"
     ]
    }
   ],
   "source": [
    "import pprint\n",
    "\n",
    "pprint.pprint(housing.data[0:5])\n",
    "pprint.pprint(housing.target[0:5])"
   ]
  },
  {
   "cell_type": "code",
   "execution_count": 4,
   "metadata": {},
   "outputs": [
    {
     "name": "stdout",
     "output_type": "stream",
     "text": [
      "(11610, 8) (11610,)\n",
      "(3870, 8) (3870,)\n",
      "(5160, 8) (5160,)\n"
     ]
    }
   ],
   "source": [
    "from sklearn.model_selection import train_test_split\n",
    "\n",
    "x_train_all, x_test, y_train_all, y_test = train_test_split(\n",
    "    housing.data, housing.target, random_state = 7)\n",
    "x_train, x_valid, y_train, y_valid = train_test_split(\n",
    "    x_train_all, y_train_all, random_state = 11)\n",
    "print(x_train.shape, y_train.shape)\n",
    "print(x_valid.shape, y_valid.shape)\n",
    "print(x_test.shape, y_test.shape)\n"
   ]
  },
  {
   "cell_type": "code",
   "execution_count": 5,
   "metadata": {},
   "outputs": [],
   "source": [
    "from sklearn.preprocessing import StandardScaler\n",
    "\n",
    "scaler = StandardScaler()\n",
    "x_train_scaled = scaler.fit_transform(x_train)\n",
    "x_valid_scaled = scaler.transform(x_valid)\n",
    "x_test_scaled = scaler.transform(x_test)"
   ]
  },
  {
   "cell_type": "code",
   "execution_count": 10,
   "metadata": {},
   "outputs": [
    {
     "name": "stdout",
     "output_type": "stream",
     "text": [
      "Model: \"sequential_1\"\n",
      "_________________________________________________________________\n",
      "Layer (type)                 Output Shape              Param #   \n",
      "=================================================================\n",
      "dense_2 (Dense)              (None, 30)                270       \n",
      "_________________________________________________________________\n",
      "dense_3 (Dense)              (None, 1)                 31        \n",
      "=================================================================\n",
      "Total params: 301\n",
      "Trainable params: 301\n",
      "Non-trainable params: 0\n",
      "_________________________________________________________________\n"
     ]
    }
   ],
   "source": [
    "model = keras.models.Sequential([\n",
    "    keras.layers.Dense(30, activation='relu',\n",
    "                       input_shape=x_train.shape[1:]),\n",
    "    keras.layers.Dense(1),\n",
    "])\n",
    "model.summary()\n",
    "model.compile(loss=\"mean_squared_error\", optimizer=\"sgd\")\n",
    "callbacks = [keras.callbacks.EarlyStopping(\n",
    "    patience=5, min_delta=1e-2)]"
   ]
  },
  {
   "cell_type": "code",
   "execution_count": 11,
   "metadata": {},
   "outputs": [
    {
     "name": "stdout",
     "output_type": "stream",
     "text": [
      "Train on 11610 samples, validate on 3870 samples\n",
      "Epoch 1/100\n",
      "11610/11610 [==============================] - 1s 101us/sample - loss: 1.5306 - val_loss: 0.9205\n",
      "Epoch 2/100\n",
      "11610/11610 [==============================] - 1s 67us/sample - loss: 0.8158 - val_loss: 0.8267\n",
      "Epoch 3/100\n",
      "11610/11610 [==============================] - 1s 67us/sample - loss: 0.7440 - val_loss: 0.7793\n",
      "Epoch 4/100\n",
      "11610/11610 [==============================] - 1s 68us/sample - loss: 0.7018 - val_loss: 0.7401\n",
      "Epoch 5/100\n",
      "11610/11610 [==============================] - 1s 68us/sample - loss: 0.6664 - val_loss: 0.7071\n",
      "Epoch 6/100\n",
      "11610/11610 [==============================] - 1s 66us/sample - loss: 0.6354 - val_loss: 0.6767\n",
      "Epoch 7/100\n",
      "11610/11610 [==============================] - 1s 64us/sample - loss: 0.6085 - val_loss: 0.6486\n",
      "Epoch 8/100\n",
      "11610/11610 [==============================] - 1s 92us/sample - loss: 0.5847 - val_loss: 0.6237\n",
      "Epoch 9/100\n",
      "11610/11610 [==============================] - 1s 79us/sample - loss: 0.5646 - val_loss: 0.6026\n",
      "Epoch 10/100\n",
      "11610/11610 [==============================] - 1s 67us/sample - loss: 0.5473 - val_loss: 0.5853\n",
      "Epoch 11/100\n",
      "11610/11610 [==============================] - 1s 64us/sample - loss: 0.5323 - val_loss: 0.5697\n",
      "Epoch 12/100\n",
      "11610/11610 [==============================] - 1s 103us/sample - loss: 0.5196 - val_loss: 0.5548\n",
      "Epoch 13/100\n",
      "11610/11610 [==============================] - 1s 81us/sample - loss: 0.5088 - val_loss: 0.5434\n",
      "Epoch 14/100\n",
      "11610/11610 [==============================] - 1s 110us/sample - loss: 0.4993 - val_loss: 0.5336\n",
      "Epoch 15/100\n",
      "11610/11610 [==============================] - 1s 75us/sample - loss: 0.4915 - val_loss: 0.5246\n",
      "Epoch 16/100\n",
      "11610/11610 [==============================] - 1s 70us/sample - loss: 0.4842 - val_loss: 0.5172\n",
      "Epoch 17/100\n",
      "11610/11610 [==============================] - 1s 79us/sample - loss: 0.4778 - val_loss: 0.5099\n",
      "Epoch 18/100\n",
      "11610/11610 [==============================] - 1s 71us/sample - loss: 0.4722 - val_loss: 0.5033\n",
      "Epoch 19/100\n",
      "11610/11610 [==============================] - 1s 66us/sample - loss: 0.4668 - val_loss: 0.4984\n",
      "Epoch 20/100\n",
      "11610/11610 [==============================] - 1s 63us/sample - loss: 0.4625 - val_loss: 0.4921\n",
      "Epoch 21/100\n",
      "11610/11610 [==============================] - 1s 66us/sample - loss: 0.4582 - val_loss: 0.4866\n",
      "Epoch 22/100\n",
      "11610/11610 [==============================] - 1s 96us/sample - loss: 0.4541 - val_loss: 0.4824\n",
      "Epoch 23/100\n",
      "11610/11610 [==============================] - 1s 108us/sample - loss: 0.4507 - val_loss: 0.4777\n",
      "Epoch 24/100\n",
      "11610/11610 [==============================] - 1s 77us/sample - loss: 0.4474 - val_loss: 0.4743\n",
      "Epoch 25/100\n",
      "11610/11610 [==============================] - 1s 69us/sample - loss: 0.4440 - val_loss: 0.4708\n",
      "Epoch 26/100\n",
      "11610/11610 [==============================] - 1s 75us/sample - loss: 0.4417 - val_loss: 0.4671\n",
      "Epoch 27/100\n",
      "11610/11610 [==============================] - 1s 69us/sample - loss: 0.4390 - val_loss: 0.4643\n",
      "Epoch 28/100\n",
      "11610/11610 [==============================] - 1s 85us/sample - loss: 0.4366 - val_loss: 0.4616\n",
      "Epoch 29/100\n",
      "11610/11610 [==============================] - 1s 92us/sample - loss: 0.4341 - val_loss: 0.4582\n",
      "Epoch 30/100\n",
      "11610/11610 [==============================] - 1s 77us/sample - loss: 0.4322 - val_loss: 0.4575\n",
      "Epoch 31/100\n",
      "11610/11610 [==============================] - 1s 66us/sample - loss: 0.4302 - val_loss: 0.4542\n",
      "Epoch 32/100\n",
      "11610/11610 [==============================] - 1s 71us/sample - loss: 0.4282 - val_loss: 0.4515\n",
      "Epoch 33/100\n",
      "11610/11610 [==============================] - 1s 67us/sample - loss: 0.4265 - val_loss: 0.4489\n",
      "Epoch 34/100\n",
      "11610/11610 [==============================] - 1s 73us/sample - loss: 0.4248 - val_loss: 0.4475\n",
      "Epoch 35/100\n",
      "11610/11610 [==============================] - 1s 76us/sample - loss: 0.4232 - val_loss: 0.4457\n",
      "Epoch 36/100\n",
      "11610/11610 [==============================] - 1s 63us/sample - loss: 0.4216 - val_loss: 0.4433\n",
      "Epoch 37/100\n",
      "11610/11610 [==============================] - 1s 61us/sample - loss: 0.4202 - val_loss: 0.4421\n"
     ]
    }
   ],
   "source": [
    "history = model.fit(x_train_scaled, y_train,\n",
    "                    validation_data = (x_valid_scaled, y_valid),\n",
    "                    epochs = 100,\n",
    "                    callbacks = callbacks)"
   ]
  },
  {
   "cell_type": "code",
   "execution_count": 12,
   "metadata": {},
   "outputs": [
    {
     "data": {
      "image/png": "[encoded data removed]",
      "text/plain": [
       "<Figure size 576x360 with 1 Axes>"
      ]
     },
     "metadata": {
      "needs_background": "light"
     },
     "output_type": "display_data"
    }
   ],
   "source": [
    "def plot_learning_curves(history):\n",
    "    pd.DataFrame(history.history).plot(figsize=(8, 5))\n",
    "    plt.grid(True)\n",
    "    plt.gca().set_ylim(0, 1)\n",
    "    plt.show()\n",
    "plot_learning_curves(history)"
   ]
  },
  {
   "cell_type": "code",
   "execution_count": 9,
   "metadata": {},
   "outputs": [
    {
     "name": "stdout",
     "output_type": "stream",
     "text": [
      "5160/5160 [==============================] - 0s 52us/sample - loss: 0.3915\n"
     ]
    },
    {
     "data": {
      "text/plain": [
       "0.3914947641912357"
      ]
     },
     "execution_count": 9,
     "metadata": {},
     "output_type": "execute_result"
    }
   ],
   "source": [
    "model.evaluate(x_test_scaled, y_test)"
   ]
  },
  {
   "cell_type": "code",
   "execution_count": null,
   "metadata": {},
   "outputs": [],
   "source": []
  }
 ],
 "metadata": {
  "kernelspec": {
   "display_name": "Python 3",
   "language": "python",
   "name": "python3"
  },
  "language_info": {
   "codemirror_mode": {
    "name": "ipython",
    "version": 3
   },
   "file_extension": ".py",
   "mimetype": "text/x-python",
   "name": "python",
   "nbconvert_exporter": "python",
   "pygments_lexer": "ipython3",
   "version": "3.7.3"
  }
 },
 "nbformat": 4,
 "nbformat_minor": 2
}

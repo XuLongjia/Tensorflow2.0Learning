{
 "cells": [
  {
   "cell_type": "code",
   "execution_count": 1,
   "metadata": {},
   "outputs": [
    {
     "name": "stdout",
     "output_type": "stream",
     "text": [
      "2.0.0-beta1\n",
      "sys.version_info(major=3, minor=7, micro=3, releaselevel='final', serial=0)\n",
      "matplotlib 3.0.3\n",
      "numpy 1.16.2\n",
      "pandas 0.24.2\n",
      "sklearn 0.20.3\n",
      "tensorflow 2.0.0-beta1\n",
      "tensorflow.python.keras.api._v2.keras 2.2.4-tf\n"
     ]
    }
   ],
   "source": [
    "import matplotlib as mpl\n",
    "import matplotlib.pyplot as plt\n",
    "%matplotlib inline\n",
    "import numpy as np\n",
    "import sklearn\n",
    "import pandas as pd\n",
    "import os\n",
    "import sys\n",
    "import time\n",
    "import tensorflow as tf\n",
    "\n",
    "from tensorflow import keras\n",
    "\n",
    "print(tf.__version__)\n",
    "print(sys.version_info)\n",
    "for module in mpl, np, pd, sklearn, tf, keras:\n",
    "    print(module.__name__, module.__version__)"
   ]
  },
  {
   "cell_type": "code",
   "execution_count": 2,
   "metadata": {},
   "outputs": [
    {
     "name": "stderr",
     "output_type": "stream",
     "text": [
      "WARNING: Logging before flag parsing goes to stderr.\n",
      "W0714 21:49:37.675129 140736297124800 deprecation.py:323] From /Users/zhangyx/workspace/environments/tf2_py3/lib/python3.7/site-packages/tensorflow/python/ops/math_grad.py:1250: add_dispatch_support.<locals>.wrapper (from tensorflow.python.ops.array_ops) is deprecated and will be removed in a future version.\n",
      "Instructions for updating:\n",
      "Use tf.where in 2.0, which has the same broadcast rule as np.where\n"
     ]
    },
    {
     "data": {
      "text/plain": [
       "<tf.Tensor: id=497, shape=(1, 10), dtype=float32, numpy=\n",
       "array([[0.20111723, 0.09845883, 0.02821723, 0.0199804 , 0.03568273,\n",
       "        0.07881083, 0.10847212, 0.02893549, 0.34842488, 0.05190022]],\n",
       "      dtype=float32)>"
      ]
     },
     "execution_count": 2,
     "metadata": {},
     "output_type": "execute_result"
    }
   ],
   "source": [
    "loaded_keras_model = keras.models.load_model(\n",
    "    './graph_def_and_weights/fashion_mnist_model.h5')\n",
    "loaded_keras_model(np.ones((1, 28, 28)))"
   ]
  },
  {
   "cell_type": "code",
   "execution_count": 3,
   "metadata": {},
   "outputs": [],
   "source": [
    "keras_to_tflite_converter = tf.lite.TFLiteConverter.from_keras_model(\n",
    "    loaded_keras_model)\n",
    "keras_to_tflite_converter.optimizations = [\n",
    "    tf.lite.Optimize.OPTIMIZE_FOR_SIZE]\n",
    "keras_tflite = keras_to_tflite_converter.convert()"
   ]
  },
  {
   "cell_type": "code",
   "execution_count": 4,
   "metadata": {},
   "outputs": [],
   "source": [
    "if not os.path.exists('./tflite_models'):\n",
    "    os.mkdir('./tflite_models')\n",
    "with open('./tflite_models/quantized_keras_tflite', 'wb') as f:\n",
    "    f.write(keras_tflite)"
   ]
  },
  {
   "cell_type": "code",
   "execution_count": 5,
   "metadata": {},
   "outputs": [],
   "source": [
    "run_model = tf.function(lambda x : loaded_keras_model(x))\n",
    "keras_concrete_func = run_model.get_concrete_function(\n",
    "    tf.TensorSpec(loaded_keras_model.inputs[0].shape,\n",
    "                  loaded_keras_model.inputs[0].dtype))"
   ]
  },
  {
   "cell_type": "code",
   "execution_count": 6,
   "metadata": {},
   "outputs": [
    {
     "data": {
      "text/plain": [
       "<tf.Tensor: id=650, shape=(1, 10), dtype=float32, numpy=\n",
       "array([[0.20111723, 0.09845883, 0.02821723, 0.0199804 , 0.03568273,\n",
       "        0.07881083, 0.10847212, 0.02893549, 0.34842488, 0.05190022]],\n",
       "      dtype=float32)>"
      ]
     },
     "execution_count": 6,
     "metadata": {},
     "output_type": "execute_result"
    }
   ],
   "source": [
    "keras_concrete_func(tf.constant(np.ones((1, 28, 28), dtype=np.float32)))"
   ]
  },
  {
   "cell_type": "code",
   "execution_count": 7,
   "metadata": {},
   "outputs": [],
   "source": [
    "concrete_func_to_tflite_converter = tf.lite.TFLiteConverter.from_concrete_functions([keras_concrete_func])\n",
    "concrete_func_to_tflite_converter.optimizations = [\n",
    "    tf.lite.Optimize.OPTIMIZE_FOR_SIZE]\n",
    "concrete_func_tflite = concrete_func_to_tflite_converter.convert()"
   ]
  },
  {
   "cell_type": "code",
   "execution_count": 8,
   "metadata": {},
   "outputs": [],
   "source": [
    "with open('./tflite_models/quantized_concrete_func_tflite', 'wb') as f:\n",
    "    f.write(concrete_func_tflite)"
   ]
  },
  {
   "cell_type": "code",
   "execution_count": 9,
   "metadata": {},
   "outputs": [],
   "source": [
    "saved_model_to_tflite_converter = tf.lite.TFLiteConverter.from_saved_model('./keras_saved_graph/')\n",
    "saved_model_to_tflite_converter.optimizations = [\n",
    "    tf.lite.Optimize.OPTIMIZE_FOR_SIZE]\n",
    "saved_model_tflite = saved_model_to_tflite_converter.convert()"
   ]
  },
  {
   "cell_type": "code",
   "execution_count": 10,
   "metadata": {},
   "outputs": [],
   "source": [
    "with open('./tflite_models/quantized_saved_model_tflite', 'wb') as f:\n",
    "    f.write(saved_model_tflite)"
   ]
  },
  {
   "cell_type": "code",
   "execution_count": null,
   "metadata": {},
   "outputs": [],
   "source": []
  }
 ],
 "metadata": {
  "kernelspec": {
   "display_name": "Python 3",
   "language": "python",
   "name": "python3"
  },
  "language_info": {
   "codemirror_mode": {
    "name": "ipython",
    "version": 3
   },
   "file_extension": ".py",
   "mimetype": "text/x-python",
   "name": "python",
   "nbconvert_exporter": "python",
   "pygments_lexer": "ipython3",
   "version": "3.7.3"
  }
 },
 "nbformat": 4,
 "nbformat_minor": 2
}

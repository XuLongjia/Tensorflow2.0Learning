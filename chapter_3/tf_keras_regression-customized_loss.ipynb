{
 "cells": [
  {
   "cell_type": "code",
   "execution_count": 1,
   "metadata": {},
   "outputs": [
    {
     "name": "stdout",
     "output_type": "stream",
     "text": [
      "2.0.0-alpha0\n",
      "sys.version_info(major=3, minor=7, micro=3, releaselevel='final', serial=0)\n",
      "matplotlib 3.0.3\n",
      "numpy 1.16.2\n",
      "pandas 0.24.2\n",
      "sklearn 0.20.3\n",
      "tensorflow 2.0.0-alpha0\n",
      "tensorflow.python.keras.api._v2.keras 2.2.4-tf\n"
     ]
    }
   ],
   "source": [
    "import matplotlib as mpl\n",
    "import matplotlib.pyplot as plt\n",
    "%matplotlib inline\n",
    "import numpy as np\n",
    "import sklearn\n",
    "import pandas as pd\n",
    "import os\n",
    "import sys\n",
    "import time\n",
    "import tensorflow as tf\n",
    "\n",
    "from tensorflow import keras\n",
    "\n",
    "print(tf.__version__)\n",
    "print(sys.version_info)\n",
    "for module in mpl, np, pd, sklearn, tf, keras:\n",
    "    print(module.__name__, module.__version__)"
   ]
  },
  {
   "cell_type": "code",
   "execution_count": 2,
   "metadata": {},
   "outputs": [
    {
     "name": "stdout",
     "output_type": "stream",
     "text": [
      ".. _california_housing_dataset:\n",
      "\n",
      "California Housing dataset\n",
      "--------------------------\n",
      "\n",
      "**Data Set Characteristics:**\n",
      "\n",
      "    :Number of Instances: 20640\n",
      "\n",
      "    :Number of Attributes: 8 numeric, predictive attributes and the target\n",
      "\n",
      "    :Attribute Information:\n",
      "        - MedInc        median income in block\n",
      "        - HouseAge      median house age in block\n",
      "        - AveRooms      average number of rooms\n",
      "        - AveBedrms     average number of bedrooms\n",
      "        - Population    block population\n",
      "        - AveOccup      average house occupancy\n",
      "        - Latitude      house block latitude\n",
      "        - Longitude     house block longitude\n",
      "\n",
      "    :Missing Attribute Values: None\n",
      "\n",
      "This dataset was obtained from the StatLib repository.\n",
      "http://lib.stat.cmu.edu/datasets/\n",
      "\n",
      "The target variable is the median house value for California districts.\n",
      "\n",
      "This dataset was derived from the 1990 U.S. census, using one row per census\n",
      "block group. A block group is the smallest geographical unit for which the U.S.\n",
      "Census Bureau publishes sample data (a block group typically has a population\n",
      "of 600 to 3,000 people).\n",
      "\n",
      "It can be downloaded/loaded using the\n",
      ":func:`sklearn.datasets.fetch_california_housing` function.\n",
      "\n",
      ".. topic:: References\n",
      "\n",
      "    - Pace, R. Kelley and Ronald Barry, Sparse Spatial Autoregressions,\n",
      "      Statistics and Probability Letters, 33 (1997) 291-297\n",
      "\n",
      "(20640, 8)\n",
      "(20640,)\n"
     ]
    }
   ],
   "source": [
    "from sklearn.datasets import fetch_california_housing\n",
    "\n",
    "housing = fetch_california_housing()\n",
    "print(housing.DESCR)\n",
    "print(housing.data.shape)\n",
    "print(housing.target.shape)"
   ]
  },
  {
   "cell_type": "code",
   "execution_count": 3,
   "metadata": {},
   "outputs": [
    {
     "name": "stdout",
     "output_type": "stream",
     "text": [
      "(11610, 8) (11610,)\n",
      "(3870, 8) (3870,)\n",
      "(5160, 8) (5160,)\n"
     ]
    }
   ],
   "source": [
    "from sklearn.model_selection import train_test_split\n",
    "\n",
    "x_train_all, x_test, y_train_all, y_test = train_test_split(\n",
    "    housing.data, housing.target, random_state = 7)\n",
    "x_train, x_valid, y_train, y_valid = train_test_split(\n",
    "    x_train_all, y_train_all, random_state = 11)\n",
    "print(x_train.shape, y_train.shape)\n",
    "print(x_valid.shape, y_valid.shape)\n",
    "print(x_test.shape, y_test.shape)\n"
   ]
  },
  {
   "cell_type": "code",
   "execution_count": 4,
   "metadata": {},
   "outputs": [],
   "source": [
    "from sklearn.preprocessing import StandardScaler\n",
    "\n",
    "scaler = StandardScaler()\n",
    "x_train_scaled = scaler.fit_transform(x_train)\n",
    "x_valid_scaled = scaler.transform(x_valid)\n",
    "x_test_scaled = scaler.transform(x_test)"
   ]
  },
  {
   "cell_type": "code",
   "execution_count": 5,
   "metadata": {},
   "outputs": [
    {
     "name": "stdout",
     "output_type": "stream",
     "text": [
      "Model: \"sequential\"\n",
      "_________________________________________________________________\n",
      "Layer (type)                 Output Shape              Param #   \n",
      "=================================================================\n",
      "dense (Dense)                (None, 30)                270       \n",
      "_________________________________________________________________\n",
      "dense_1 (Dense)              (None, 1)                 31        \n",
      "=================================================================\n",
      "Total params: 301\n",
      "Trainable params: 301\n",
      "Non-trainable params: 0\n",
      "_________________________________________________________________\n"
     ]
    }
   ],
   "source": [
    "def customized_mse(y_true, y_pred):\n",
    "    return tf.reduce_mean(tf.square(y_pred - y_true))\n",
    "\n",
    "model = keras.models.Sequential([\n",
    "    keras.layers.Dense(30, activation='relu',\n",
    "                       input_shape=x_train.shape[1:]),\n",
    "    keras.layers.Dense(1),\n",
    "])\n",
    "model.summary()\n",
    "model.compile(loss=customized_mse, optimizer=\"sgd\",\n",
    "              metrics=[\"mean_squared_error\"])\n",
    "callbacks = [keras.callbacks.EarlyStopping(\n",
    "    patience=5, min_delta=1e-2)]"
   ]
  },
  {
   "cell_type": "code",
   "execution_count": 6,
   "metadata": {},
   "outputs": [
    {
     "name": "stdout",
     "output_type": "stream",
     "text": [
      "Train on 11610 samples, validate on 3870 samples\n",
      "Epoch 1/100\n",
      "11610/11610 [==============================] - 1s 100us/sample - loss: 1.8152 - mean_squared_error: 1.8152 - val_loss: 0.9983 - val_mean_squared_error: 0.9983\n",
      "Epoch 2/100\n",
      "11610/11610 [==============================] - 1s 119us/sample - loss: 0.8248 - mean_squared_error: 0.8248 - val_loss: 0.8222 - val_mean_squared_error: 0.8222\n",
      "Epoch 3/100\n",
      "11610/11610 [==============================] - 1s 100us/sample - loss: 0.7277 - mean_squared_error: 0.7277 - val_loss: 0.7677 - val_mean_squared_error: 0.7677\n",
      "Epoch 4/100\n",
      "11610/11610 [==============================] - 1s 95us/sample - loss: 0.6882 - mean_squared_error: 0.6882 - val_loss: 0.7343 - val_mean_squared_error: 0.7343\n",
      "Epoch 5/100\n",
      "11610/11610 [==============================] - 1s 94us/sample - loss: 0.6599 - mean_squared_error: 0.6599 - val_loss: 0.7074 - val_mean_squared_error: 0.7074\n",
      "Epoch 6/100\n",
      "11610/11610 [==============================] - 1s 102us/sample - loss: 0.6365 - mean_squared_error: 0.6365 - val_loss: 0.6827 - val_mean_squared_error: 0.6827\n",
      "Epoch 7/100\n",
      "11610/11610 [==============================] - 1s 91us/sample - loss: 0.6160 - mean_squared_error: 0.6160 - val_loss: 0.6586 - val_mean_squared_error: 0.6586\n",
      "Epoch 8/100\n",
      "11610/11610 [==============================] - 1s 91us/sample - loss: 0.5978 - mean_squared_error: 0.5978 - val_loss: 0.6461 - val_mean_squared_error: 0.6461\n",
      "Epoch 9/100\n",
      "11610/11610 [==============================] - 2s 162us/sample - loss: 0.5814 - mean_squared_error: 0.5814 - val_loss: 0.6236 - val_mean_squared_error: 0.6236\n",
      "Epoch 10/100\n",
      "11610/11610 [==============================] - 1s 117us/sample - loss: 0.5657 - mean_squared_error: 0.5657 - val_loss: 0.6053 - val_mean_squared_error: 0.6053\n",
      "Epoch 11/100\n",
      "11610/11610 [==============================] - 2s 170us/sample - loss: 0.5522 - mean_squared_error: 0.5522 - val_loss: 0.5881 - val_mean_squared_error: 0.5881\n",
      "Epoch 12/100\n",
      "11610/11610 [==============================] - 2s 173us/sample - loss: 0.5393 - mean_squared_error: 0.5393 - val_loss: 0.5751 - val_mean_squared_error: 0.5751\n",
      "Epoch 13/100\n",
      "11610/11610 [==============================] - 2s 151us/sample - loss: 0.5280 - mean_squared_error: 0.5280 - val_loss: 0.5609 - val_mean_squared_error: 0.5609\n",
      "Epoch 14/100\n",
      "11610/11610 [==============================] - 2s 180us/sample - loss: 0.5184 - mean_squared_error: 0.5184 - val_loss: 0.5511 - val_mean_squared_error: 0.5511\n",
      "Epoch 15/100\n",
      "11610/11610 [==============================] - 2s 156us/sample - loss: 0.5098 - mean_squared_error: 0.5098 - val_loss: 0.5418 - val_mean_squared_error: 0.5418\n",
      "Epoch 16/100\n",
      "11610/11610 [==============================] - 2s 189us/sample - loss: 0.5017 - mean_squared_error: 0.5017 - val_loss: 0.5325 - val_mean_squared_error: 0.5325\n",
      "Epoch 17/100\n",
      "11610/11610 [==============================] - 2s 138us/sample - loss: 0.4961 - mean_squared_error: 0.4961 - val_loss: 0.5259 - val_mean_squared_error: 0.5259\n",
      "Epoch 18/100\n",
      "11610/11610 [==============================] - 2s 183us/sample - loss: 0.4903 - mean_squared_error: 0.4903 - val_loss: 0.5195 - val_mean_squared_error: 0.5195\n",
      "Epoch 19/100\n",
      "11610/11610 [==============================] - 2s 137us/sample - loss: 0.4854 - mean_squared_error: 0.4854 - val_loss: 0.5143 - val_mean_squared_error: 0.5143\n",
      "Epoch 20/100\n",
      "11610/11610 [==============================] - 2s 141us/sample - loss: 0.4805 - mean_squared_error: 0.4805 - val_loss: 0.5086 - val_mean_squared_error: 0.5086\n",
      "Epoch 21/100\n",
      "11610/11610 [==============================] - 2s 132us/sample - loss: 0.4767 - mean_squared_error: 0.4767 - val_loss: 0.5041 - val_mean_squared_error: 0.5041\n",
      "Epoch 22/100\n",
      "11610/11610 [==============================] - 2s 142us/sample - loss: 0.4731 - mean_squared_error: 0.4731 - val_loss: 0.5007 - val_mean_squared_error: 0.5007\n",
      "Epoch 23/100\n",
      "11610/11610 [==============================] - 2s 191us/sample - loss: 0.4692 - mean_squared_error: 0.4692 - val_loss: 0.4988 - val_mean_squared_error: 0.4988\n",
      "Epoch 24/100\n",
      "11610/11610 [==============================] - 2s 150us/sample - loss: 0.4659 - mean_squared_error: 0.4659 - val_loss: 0.4920 - val_mean_squared_error: 0.4920\n",
      "Epoch 25/100\n",
      "11610/11610 [==============================] - 2s 145us/sample - loss: 0.4633 - mean_squared_error: 0.4633 - val_loss: 0.4926 - val_mean_squared_error: 0.4926\n",
      "Epoch 26/100\n",
      "11610/11610 [==============================] - 2s 137us/sample - loss: 0.4604 - mean_squared_error: 0.4604 - val_loss: 0.4864 - val_mean_squared_error: 0.4864\n",
      "Epoch 27/100\n",
      "11610/11610 [==============================] - 2s 179us/sample - loss: 0.4579 - mean_squared_error: 0.4579 - val_loss: 0.4837 - val_mean_squared_error: 0.4837\n",
      "Epoch 28/100\n",
      "11610/11610 [==============================] - 2s 195us/sample - loss: 0.4556 - mean_squared_error: 0.4556 - val_loss: 0.4807 - val_mean_squared_error: 0.4807\n",
      "Epoch 29/100\n",
      "11610/11610 [==============================] - 2s 197us/sample - loss: 0.4530 - mean_squared_error: 0.4530 - val_loss: 0.4791 - val_mean_squared_error: 0.4791\n",
      "Epoch 30/100\n",
      "11610/11610 [==============================] - 2s 131us/sample - loss: 0.4507 - mean_squared_error: 0.4507 - val_loss: 0.4768 - val_mean_squared_error: 0.4768\n",
      "Epoch 31/100\n",
      "11610/11610 [==============================] - 2s 141us/sample - loss: 0.4483 - mean_squared_error: 0.4483 - val_loss: 0.4723 - val_mean_squared_error: 0.4723\n",
      "Epoch 32/100\n",
      "11610/11610 [==============================] - 1s 126us/sample - loss: 0.4460 - mean_squared_error: 0.4460 - val_loss: 0.4719 - val_mean_squared_error: 0.4719\n",
      "Epoch 33/100\n",
      "11610/11610 [==============================] - 2s 153us/sample - loss: 0.4439 - mean_squared_error: 0.4439 - val_loss: 0.4672 - val_mean_squared_error: 0.4672\n",
      "Epoch 34/100\n",
      "11610/11610 [==============================] - 2s 140us/sample - loss: 0.4422 - mean_squared_error: 0.4422 - val_loss: 0.4656 - val_mean_squared_error: 0.4656\n",
      "Epoch 35/100\n",
      "11610/11610 [==============================] - 2s 136us/sample - loss: 0.4396 - mean_squared_error: 0.4396 - val_loss: 0.4627 - val_mean_squared_error: 0.4627\n",
      "Epoch 36/100\n",
      "11610/11610 [==============================] - 2s 132us/sample - loss: 0.4378 - mean_squared_error: 0.4378 - val_loss: 0.4611 - val_mean_squared_error: 0.4611\n",
      "Epoch 37/100\n",
      "11610/11610 [==============================] - 1s 121us/sample - loss: 0.4357 - mean_squared_error: 0.4357 - val_loss: 0.4587 - val_mean_squared_error: 0.4587\n",
      "Epoch 38/100\n",
      "11610/11610 [==============================] - 1s 95us/sample - loss: 0.4336 - mean_squared_error: 0.4336 - val_loss: 0.4560 - val_mean_squared_error: 0.4560\n",
      "Epoch 39/100\n",
      "11610/11610 [==============================] - 1s 105us/sample - loss: 0.4317 - mean_squared_error: 0.4317 - val_loss: 0.4549 - val_mean_squared_error: 0.4549\n",
      "Epoch 40/100\n",
      "11610/11610 [==============================] - 2s 146us/sample - loss: 0.4297 - mean_squared_error: 0.4297 - val_loss: 0.4524 - val_mean_squared_error: 0.4524\n",
      "Epoch 41/100\n",
      "11610/11610 [==============================] - 1s 113us/sample - loss: 0.4279 - mean_squared_error: 0.4279 - val_loss: 0.4526 - val_mean_squared_error: 0.4526\n",
      "Epoch 42/100\n",
      "11610/11610 [==============================] - 2s 159us/sample - loss: 0.4260 - mean_squared_error: 0.4260 - val_loss: 0.4484 - val_mean_squared_error: 0.4484\n",
      "Epoch 43/100\n",
      "11610/11610 [==============================] - 1s 122us/sample - loss: 0.4248 - mean_squared_error: 0.4248 - val_loss: 0.4467 - val_mean_squared_error: 0.4467\n"
     ]
    }
   ],
   "source": [
    "history = model.fit(x_train_scaled, y_train,\n",
    "                    validation_data = (x_valid_scaled, y_valid),\n",
    "                    epochs = 100,\n",
    "                    callbacks = callbacks)"
   ]
  },
  {
   "cell_type": "code",
   "execution_count": 7,
   "metadata": {},
   "outputs": [
    {
     "data": {
      "image/png": "[encoded data removed]",
      "text/plain": [
       "<Figure size 576x360 with 1 Axes>"
      ]
     },
     "metadata": {
      "needs_background": "light"
     },
     "output_type": "display_data"
    }
   ],
   "source": [
    "def plot_learning_curves(history):\n",
    "    pd.DataFrame(history.history).plot(figsize=(8, 5))\n",
    "    plt.grid(True)\n",
    "    plt.gca().set_ylim(0, 1)\n",
    "    plt.show()\n",
    "plot_learning_curves(history)"
   ]
  },
  {
   "cell_type": "code",
   "execution_count": 8,
   "metadata": {},
   "outputs": [
    {
     "name": "stdout",
     "output_type": "stream",
     "text": [
      "5160/5160 [==============================] - 0s 95us/sample - loss: 0.4375 - mean_squared_error: 0.4375\n"
     ]
    },
    {
     "data": {
      "text/plain": [
       "[0.43752956196319226, 0.4375298]"
      ]
     },
     "execution_count": 8,
     "metadata": {},
     "output_type": "execute_result"
    }
   ],
   "source": [
    "model.evaluate(x_test_scaled, y_test)"
   ]
  },
  {
   "cell_type": "code",
   "execution_count": null,
   "metadata": {},
   "outputs": [],
   "source": []
  }
 ],
 "metadata": {
  "kernelspec": {
   "display_name": "Python 3",
   "language": "python",
   "name": "python3"
  },
  "language_info": {
   "codemirror_mode": {
    "name": "ipython",
    "version": 3
   },
   "file_extension": ".py",
   "mimetype": "text/x-python",
   "name": "python",
   "nbconvert_exporter": "python",
   "pygments_lexer": "ipython3",
   "version": "3.7.3"
  }
 },
 "nbformat": 4,
 "nbformat_minor": 2
}
